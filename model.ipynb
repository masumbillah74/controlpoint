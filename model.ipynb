{
 "cells": [
  {
   "cell_type": "code",
   "execution_count": 107,
   "id": "24cd4b00",
   "metadata": {},
   "outputs": [],
   "source": [
    "import csv\n",
    "import os\n",
    "import pandas as pd\n",
    "import numpy as np\n",
    "\n",
    "from sklearn.tree import DecisionTreeClassifier \n",
    "from sklearn.ensemble import RandomForestClassifier\n",
    "from sklearn.neighbors import KNeighborsClassifier\n",
    "from sklearn.model_selection import train_test_split \n",
    "from sklearn.metrics import confusion_matrix"
   ]
  },
  {
   "cell_type": "code",
   "execution_count": 159,
   "id": "a5f6ceda",
   "metadata": {},
   "outputs": [],
   "source": [
    "class Model():\n",
    "    def __init__(self):\n",
    "        super(Model, self).__init__()\n",
    "        \n",
    "        self.spacing = 0.5\n",
    "        self.width = [0,8]\n",
    "        self.height = [0,12]\n",
    "\n",
    "    def load_data(self, path):\n",
    "        if os.path.exists(path):\n",
    "            self.df = pd.read_csv(path, index_col=False)\n",
    "\n",
    "    def get_coords(self):\n",
    "        x_range = np.arange(self.width[0], self.width[1], self.spacing)\n",
    "        y_range = np.arange(self.height[0], self.height[1], self.spacing)\n",
    "\n",
    "        rect_x = self.search_insert_position(x_range, self.df['coordinate_x'])\n",
    "        rect_y = self.search_insert_position(y_range, self.df['coordinate_y'])\n",
    "\n",
    "        return rect_x, rect_y\n",
    "    \n",
    "    def search_insert_position(self, nums, targets):\n",
    "        coords = []\n",
    "        for target in targets:\n",
    "        \n",
    "            left = 0\n",
    "            right = len(nums) - 1\n",
    "\n",
    "            flag = 1\n",
    "            while left <= right:\n",
    "                mid = (left + right) // 2\n",
    "\n",
    "                if nums[mid] == target:\n",
    "                    coords.append(mid)\n",
    "                    flag = 0\n",
    "                    break\n",
    "                elif target > nums[mid]:\n",
    "                    left = mid + 1\n",
    "                else:\n",
    "                    right = mid - 1\n",
    "\n",
    "            if flag:\n",
    "                coords.append(right)\n",
    "\n",
    "        return coords\n",
    "    \n",
    "    def get_feature(self):\n",
    "        return self.df.iloc[:, 8:]"
   ]
  },
  {
   "cell_type": "code",
   "execution_count": 165,
   "id": "63495569",
   "metadata": {},
   "outputs": [],
   "source": [
    "m = Model()\n",
    "m.load_data(path = 'data/feature.csv')\n",
    "m.spacing = 0.1\n",
    "\n",
    "coords = m.get_coords()\n",
    "feature = m.get_feature() "
   ]
  },
  {
   "cell_type": "code",
   "execution_count": 172,
   "id": "84642fa4",
   "metadata": {},
   "outputs": [],
   "source": [
    "target = coords[0]"
   ]
  },
  {
   "cell_type": "code",
   "execution_count": 173,
   "id": "b862470a",
   "metadata": {},
   "outputs": [
    {
     "name": "stdout",
     "output_type": "stream",
     "text": [
      "[18 18 18 18 18 18]\n",
      "[18 17 18 18 18 18]\n",
      "[18 17 17 18 18 18]\n"
     ]
    }
   ],
   "source": [
    "# Split dataset into training set and test set\n",
    "X_train, X_test, y_train, y_test = train_test_split(model_input, target, test_size=0.3, random_state=1) # 70% training and 30% test\n",
    "# Create classifer object\n",
    "dt = DecisionTreeClassifier()\n",
    "rf = RandomForestClassifier(n_estimators = 10, criterion = 'entropy', random_state = 42)\n",
    "knn = KNeighborsClassifier(n_neighbors=6)\n",
    "\n",
    "clfs = [knn, rf, dt]\n",
    "\n",
    "for clf in clfs:\n",
    "    # Train Decision Tree Classifer\n",
    "    clf = clf.fit(X_train,y_train)\n",
    "\n",
    "    #Predict the response for test dataset\n",
    "    y_pred = clf.predict(X_test)\n",
    "    \n",
    "    print(y_pred)\n",
    "\n",
    "#     matrix = confusion_matrix(y_test, y_pred)\n",
    "#     print(matrix.diagonal()/matrix.sum(axis=1))"
   ]
  },
  {
   "cell_type": "code",
   "execution_count": null,
   "id": "6c919dc1",
   "metadata": {},
   "outputs": [],
   "source": []
  }
 ],
 "metadata": {
  "kernelspec": {
   "display_name": "Python 3 (ipykernel)",
   "language": "python",
   "name": "python3"
  },
  "language_info": {
   "codemirror_mode": {
    "name": "ipython",
    "version": 3
   },
   "file_extension": ".py",
   "mimetype": "text/x-python",
   "name": "python",
   "nbconvert_exporter": "python",
   "pygments_lexer": "ipython3",
   "version": "3.8.6"
  }
 },
 "nbformat": 4,
 "nbformat_minor": 5
}
