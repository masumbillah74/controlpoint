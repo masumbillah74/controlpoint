{
 "cells": [
  {
   "cell_type": "code",
   "execution_count": 1,
   "id": "132c8523",
   "metadata": {},
   "outputs": [],
   "source": [
    "class Utils():\n",
    "    def __init__(self):\n",
    "        super(Utils, self).__init__()\n",
    "        \n",
    "        self.user = {\n",
    "            'user_01': {\n",
    "                #'address': 'F5:9B:72:69:BA:82',\n",
    "                'address':'E5:02:E7:99:A6:7C',\n",
    "                'uuid':    '00000001-a154-0000-0000-0000a1540001',\n",
    "                'tag':     ' 5817'\n",
    "            },\n",
    "\n",
    "            'user_02': {\n",
    "                'DEVICE_ADDR': 'F5:9B:72:69:BA:82',\n",
    "                'uuid': '00000001-a154-0000-0000-0000a1540001',\n",
    "                'tag':     ' 5817'\n",
    "            }\n",
    "        }"
   ]
  },
  {
   "cell_type": "code",
   "execution_count": null,
   "id": "224f71fd",
   "metadata": {},
   "outputs": [],
   "source": []
  }
 ],
 "metadata": {
  "kernelspec": {
   "display_name": "Python 3 (ipykernel)",
   "language": "python",
   "name": "python3"
  },
  "language_info": {
   "codemirror_mode": {
    "name": "ipython",
    "version": 3
   },
   "file_extension": ".py",
   "mimetype": "text/x-python",
   "name": "python",
   "nbconvert_exporter": "python",
   "pygments_lexer": "ipython3",
   "version": "3.8.16"
  }
 },
 "nbformat": 4,
 "nbformat_minor": 5
}
