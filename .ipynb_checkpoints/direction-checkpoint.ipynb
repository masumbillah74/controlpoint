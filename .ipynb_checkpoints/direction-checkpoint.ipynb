{
 "cells": [
  {
   "cell_type": "code",
   "execution_count": 59,
   "id": "40492260",
   "metadata": {},
   "outputs": [],
   "source": [
    "from time import sleep\n",
    "import pydbus\n",
    "      \n",
    "\n",
    "class Direction():\n",
    "    def __init__(self):\n",
    "        super(Direction, self).__init__()\n",
    "        \n",
    "    def pair(self, address):\n",
    "\n",
    "        # DBus object paths\n",
    "        self.BLUEZ_SERVICE = 'org.bluez'\n",
    "        ADAPTER_PATH = '/org/bluez/hci0'\n",
    "        device_path = f\"{ADAPTER_PATH}/dev_{address.replace(':', '_')}\"\n",
    "\n",
    "        # setup dbus\n",
    "        self.bus = pydbus.SystemBus()\n",
    "        self.mngr = self.bus.get(self.BLUEZ_SERVICE, '/')\n",
    "        adapter = self.bus.get(self.BLUEZ_SERVICE, ADAPTER_PATH) \n",
    "        self.device = self.bus.get(self.BLUEZ_SERVICE, device_path)\n",
    "        self.device.Connect()\n",
    "        while not self.device.ServicesResolved:\n",
    "            sleep(0.5)\n",
    "            \n",
    "    def get_uuid_path(self, uuid):\n",
    "        mng_objs = self.mngr.GetManagedObjects()\n",
    "        for obj in mng_objs:\n",
    "            chr_uuid = mng_objs[obj].get('org.bluez.GattCharacteristic1', {}).get('UUID')\n",
    "\n",
    "            if obj.startswith(self.device._path) and chr_uuid == uuid.casefold():\n",
    "                return obj\n",
    "                \n",
    "    def get_data(self, uuid):\n",
    "\n",
    "        path = self.get_uuid_path(uuid)\n",
    "        received = self.bus.get(self.BLUEZ_SERVICE, path)\n",
    "        vals = received.ReadValue({})\n",
    "\n",
    "        direction = \"\"\n",
    "\n",
    "        for val in vals:\n",
    "            direction = direction + chr(val)\n",
    "\n",
    "        return direction\n",
    "    \n",
    "    def unpair(self):\n",
    "        self.device.Disconnect()\n",
    "        \n",
    "    def is_connected(self):\n",
    "        try:\n",
    "            return self.device.ServicesResolved\n",
    "        except:\n",
    "            return False"
   ]
  },
  {
   "cell_type": "code",
   "execution_count": null,
   "id": "da1fa04d",
   "metadata": {},
   "outputs": [],
   "source": []
  }
 ],
 "metadata": {
  "kernelspec": {
   "display_name": "Python 3",
   "language": "python",
   "name": "python3"
  },
  "language_info": {
   "codemirror_mode": {
    "name": "ipython",
    "version": 3
   },
   "file_extension": ".py",
   "mimetype": "text/x-python",
   "name": "python",
   "nbconvert_exporter": "python",
   "pygments_lexer": "ipython3",
   "version": "3.6.9"
  }
 },
 "nbformat": 4,
 "nbformat_minor": 5
}
