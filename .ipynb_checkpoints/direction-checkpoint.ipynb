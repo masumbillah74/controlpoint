{
 "cells": [
  {
   "cell_type": "code",
   "execution_count": 1,
   "id": "40492260",
   "metadata": {},
   "outputs": [],
   "source": [
    "from time import sleep\n",
    "import pydbus\n",
    "      \n",
    "DEVICE_ADDR = 'F5:9B:72:69:BA:82'\n",
    "uuid = '00000001-a154-0000-0000-0000a1540001'\n",
    "\n",
    "# DBus object paths\n",
    "BLUEZ_SERVICE = 'org.bluez'\n",
    "ADAPTER_PATH = '/org/bluez/hci0'\n",
    "device_path = f\"{ADAPTER_PATH}/dev_{DEVICE_ADDR.replace(':', '_')}\"\n",
    "\n",
    "# setup dbus\n",
    "bus = pydbus.SystemBus()\n",
    "mngr = bus.get(BLUEZ_SERVICE, '/')\n",
    "adapter = bus.get(BLUEZ_SERVICE, ADAPTER_PATH) \n",
    "device = bus.get(BLUEZ_SERVICE, device_path)\n",
    "\n",
    "device.Connect()\n",
    "\n",
    "while not device.ServicesResolved:\n",
    "    sleep(0.5)"
   ]
  },
  {
   "cell_type": "code",
   "execution_count": 2,
   "id": "1d0b75d1",
   "metadata": {},
   "outputs": [],
   "source": [
    "mng_objs = mngr.GetManagedObjects()\n",
    "\n",
    "path = \"\"\n",
    "for obj in mng_objs:\n",
    "    chr_uuid = mng_objs[obj].get('org.bluez.GattCharacteristic1', {}).get('UUID')\n",
    "\n",
    "    if obj.startswith(device._path) and chr_uuid == uuid.casefold():\n",
    "        path = obj\n",
    "        break"
   ]
  },
  {
   "cell_type": "code",
   "execution_count": 4,
   "id": "dbb45e5b",
   "metadata": {},
   "outputs": [
    {
     "name": "stdout",
     "output_type": "stream",
     "text": [
      "['N', 'W']\n",
      "['N', 'W']\n",
      "['N', 'W']\n",
      "['N', 'W']\n",
      "['N', 'W']\n",
      "['N', 'W']\n",
      "['N', 'W']\n",
      "['N', 'W']\n",
      "['N', 'W']\n",
      "['N', 'W']\n"
     ]
    }
   ],
   "source": [
    "for i in range(10):\n",
    "    \n",
    "    received = bus.get(BLUEZ_SERVICE, path)\n",
    "    vals = received.ReadValue({})\n",
    "    \n",
    "    direction = [chr(val) for val in vals]\n",
    "    print(direction)\n",
    "    \n",
    "    sleep(0.1)\n",
    "    \n",
    "device.Disconnect()"
   ]
  },
  {
   "cell_type": "code",
   "execution_count": null,
   "id": "dac90b2c",
   "metadata": {},
   "outputs": [],
   "source": []
  }
 ],
 "metadata": {
  "kernelspec": {
   "display_name": "Python 3",
   "language": "python",
   "name": "python3"
  },
  "language_info": {
   "codemirror_mode": {
    "name": "ipython",
    "version": 3
   },
   "file_extension": ".py",
   "mimetype": "text/x-python",
   "name": "python",
   "nbconvert_exporter": "python",
   "pygments_lexer": "ipython3",
   "version": "3.6.9"
  }
 },
 "nbformat": 4,
 "nbformat_minor": 5
}
