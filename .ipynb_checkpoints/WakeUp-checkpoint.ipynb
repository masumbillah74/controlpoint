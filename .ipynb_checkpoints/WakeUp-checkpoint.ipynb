{
 "cells": [
  {
   "cell_type": "code",
   "execution_count": 2,
   "id": "2517f881",
   "metadata": {},
   "outputs": [],
   "source": [
    "import speech_recognition as sr\n",
    "\n",
    "class WakeUp():\n",
    "    def __init__(self):\n",
    "        super(WakeUp, self).__init__()\n",
    "        self.microphone_name = \"Andrea\"\n",
    "        self.wakup_command = 'alexa'\n",
    "    \n",
    "    def find_microphone(self):\n",
    "        for index, name in enumerate(sr.Microphone.list_microphone_names()):\n",
    "            if self.microphone_name in name:\n",
    "                return index\n",
    "    \n",
    "    def get_command(self):\n",
    "        device_index = self.find_microphone()\n",
    "        \n",
    "        r = sr.Recognizer()\n",
    "        #with sr.Microphone(device_index) as source:\n",
    "        with sr.Microphone() as source:     #use default microphone\n",
    "            audio = r.listen(source, phrase_time_limit=3)\n",
    "            said = \"\"\n",
    "\n",
    "            try:\n",
    "                said = r.recognize_google(audio)\n",
    "            except Exception as e:\n",
    "                return said\n",
    "\n",
    "        text= said.lower()\n",
    "        \n",
    "        return text\n",
    "    \n",
    "    def wake_up(self):\n",
    "        command = self.get_command()\n",
    "        if self.wakup_command in command:\n",
    "            return True\n",
    "        else:\n",
    "            return False"
   ]
  },
  {
   "cell_type": "code",
   "execution_count": null,
   "id": "e0de3620",
   "metadata": {},
   "outputs": [],
   "source": []
  }
 ],
 "metadata": {
  "kernelspec": {
   "display_name": "Python 3",
   "language": "python",
   "name": "python3"
  },
  "language_info": {
   "codemirror_mode": {
    "name": "ipython",
    "version": 3
   },
   "file_extension": ".py",
   "mimetype": "text/x-python",
   "name": "python",
   "nbconvert_exporter": "python",
   "pygments_lexer": "ipython3",
   "version": "3.6.9"
  }
 },
 "nbformat": 4,
 "nbformat_minor": 5
}
