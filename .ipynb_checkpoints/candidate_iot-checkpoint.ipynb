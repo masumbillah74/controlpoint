{
 "cells": [
  {
   "cell_type": "code",
   "execution_count": 1,
   "id": "5fe319fa",
   "metadata": {},
   "outputs": [
    {
     "name": "stderr",
     "output_type": "stream",
     "text": [
      "In /home/rabbi/.local/lib/python3.6/site-packages/matplotlib/mpl-data/stylelib/_classic_test.mplstyle: \n",
      "The text.latex.preview rcparam was deprecated in Matplotlib 3.3 and will be removed two minor releases later.\n",
      "In /home/rabbi/.local/lib/python3.6/site-packages/matplotlib/mpl-data/stylelib/_classic_test.mplstyle: \n",
      "The mathtext.fallback_to_cm rcparam was deprecated in Matplotlib 3.3 and will be removed two minor releases later.\n",
      "In /home/rabbi/.local/lib/python3.6/site-packages/matplotlib/mpl-data/stylelib/_classic_test.mplstyle: Support for setting the 'mathtext.fallback_to_cm' rcParam is deprecated since 3.3 and will be removed two minor releases later; use 'mathtext.fallback : 'cm' instead.\n",
      "In /home/rabbi/.local/lib/python3.6/site-packages/matplotlib/mpl-data/stylelib/_classic_test.mplstyle: \n",
      "The validate_bool_maybe_none function was deprecated in Matplotlib 3.3 and will be removed two minor releases later.\n",
      "In /home/rabbi/.local/lib/python3.6/site-packages/matplotlib/mpl-data/stylelib/_classic_test.mplstyle: \n",
      "The savefig.jpeg_quality rcparam was deprecated in Matplotlib 3.3 and will be removed two minor releases later.\n",
      "In /home/rabbi/.local/lib/python3.6/site-packages/matplotlib/mpl-data/stylelib/_classic_test.mplstyle: \n",
      "The keymap.all_axes rcparam was deprecated in Matplotlib 3.3 and will be removed two minor releases later.\n",
      "In /home/rabbi/.local/lib/python3.6/site-packages/matplotlib/mpl-data/stylelib/_classic_test.mplstyle: \n",
      "The animation.avconv_path rcparam was deprecated in Matplotlib 3.3 and will be removed two minor releases later.\n",
      "In /home/rabbi/.local/lib/python3.6/site-packages/matplotlib/mpl-data/stylelib/_classic_test.mplstyle: \n",
      "The animation.avconv_args rcparam was deprecated in Matplotlib 3.3 and will be removed two minor releases later.\n"
     ]
    }
   ],
   "source": [
    "import serial\n",
    "import time\n",
    "import re\n",
    "import pandas as pd\n",
    "import numpy as np\n",
    "import pickle\n",
    "import json\n",
    "\n",
    "from IPython.display import IFrame\n",
    "import serial.tools.list_ports\n",
    "\n",
    "import pickle\n",
    "import numpy as np\n",
    "from pyargus.directionEstimation import *\n",
    "\n",
    "import math\n",
    "from collections import deque\n",
    "from scipy.spatial import distance\n",
    "\n",
    "from IPython.display import display, clear_output\n",
    "import matplotlib.pyplot as plt\n",
    "from matplotlib.patches import Rectangle\n",
    "from matplotlib.ticker import MultipleLocator\n",
    "\n",
    "import warnings\n",
    "warnings.filterwarnings('ignore')"
   ]
  },
  {
   "cell_type": "code",
   "execution_count": 509,
   "id": "68856f78",
   "metadata": {},
   "outputs": [],
   "source": [
    "class Candidate():\n",
    "    \n",
    "    def __init__(self):\n",
    "        super(Candidate, self).__init__()\n",
    "\n",
    "        self.width = [0,8]\n",
    "        self.height = [0,8]\n",
    "        self.spacing = 0.2\n",
    "              \n",
    "        self.x_range = np.arange(self.width[0], self.width[1], self.spacing)\n",
    "        self.y_range = np.arange(self.height[0], self.height[1], self.spacing)\n",
    "    \n",
    "        \n",
    "    def search_insert_position(self, nums, target):\n",
    "        left = 0\n",
    "        right = len(nums) - 1\n",
    "        \n",
    "        while left <= right:\n",
    "            mid = (left + right) // 2\n",
    "            \n",
    "            if nums[mid] == target:\n",
    "                return mid\n",
    "            elif target > nums[mid]:\n",
    "                left = mid + 1\n",
    "            else:\n",
    "                right = mid - 1\n",
    "        \n",
    "        return right\n",
    "    \n",
    "    \n",
    "    def get_coord(self, x, y):\n",
    "        \n",
    "        if x>self.width[1] or x<self.width[0] or y>self.height[1] or y<self.height[0]:\n",
    "            return\n",
    "        \n",
    "        rect_x = self.search_insert_position(self.x_range, x)\n",
    "        rect_y = self.search_insert_position(self.y_range, y)   \n",
    "\n",
    "        return rect_x, rect_y\n",
    "        \n",
    "    def get_candidate(self, index, coord):\n",
    "        \n",
    "        if index in [2,6]:\n",
    "            degrees = np.arange(67.5, 90, 0.5)\n",
    "        elif index in [1,3,5,7]:\n",
    "            degrees = np.arange(22.5, 67.5, 0.5)\n",
    "        elif index in [4,8]:\n",
    "            degrees = np.arange(0, 22.5, 0.5)\n",
    "\n",
    "        candidates = [self.get_coord(coord[0], coord[1])]    \n",
    "            \n",
    "        pm = np.array([+1, -1])\n",
    "\n",
    "        for degree in degrees:\n",
    "            d = self.spacing\n",
    "            while True:\n",
    "                x1, x2 = coord[0] + pm*(d/np.sqrt(1+ math.tan(degree * (math.pi/180))**2))\n",
    "                y1, y2 =coord[1] + pm*((d*math.tan(degree *(math.pi/180)))/np.sqrt(1+ math.tan(degree * (math.pi/180))**2))\n",
    "\n",
    "                if (x1>self.width[1] and x2<self.width[0]) or (y1>self.height[1] and y2<self.height[0]):                                  \n",
    "                    break\n",
    "                \n",
    "                if index == 1:\n",
    "                    candidates.append(self.get_coord(x1, y1))\n",
    "                elif index == 2:\n",
    "                    candidates.append(self.get_coord(x1, y1))\n",
    "                    candidates.append(self.get_coord(x2, y1))\n",
    "                elif index==3:\n",
    "                    candidates.append(self.get_coord(x2, y1))\n",
    "                elif index == 4:\n",
    "                    candidates.append(self.get_coord(x2, y1))\n",
    "                    candidates.append(self.get_coord(x2, y2))\n",
    "                elif index==5:\n",
    "                    candidates.append(self.get_coord(x2, y2))\n",
    "                elif index == 6:\n",
    "                    candidates.append(self.get_coord(x1, y2))\n",
    "                    candidates.append(self.get_coord(x2, y2))\n",
    "                elif index==7:\n",
    "                    candidates.append(self.get_coord(x1, y2))\n",
    "                elif index == 8:\n",
    "                    candidates.append(self.get_coord(x1, y1))\n",
    "                    candidates.append(self.get_coord(x1, y2))\n",
    "         \n",
    "                d += self.spacing \n",
    "        return candidates\n",
    "    \n",
    "    def visualize(self, candidates):\n",
    "        plt.figure(figsize=(8, 8)) \n",
    "        ax = plt.axes()\n",
    "        \n",
    "        candidates = list(filter(lambda item: item is not None, candidates))\n",
    "        \n",
    "        for i in self.x_range:\n",
    "            plt.axvline(x = i, color = 'b', linewidth=0.1)\n",
    "        \n",
    "        for i in self.y_range:\n",
    "            plt.axhline(y = i, color = 'b', linewidth=0.1)\n",
    "        \n",
    "        for x,y in candidates:\n",
    "            rect = Rectangle((self.x_range[x], self.y_range[y]),self.spacing, self.spacing)\n",
    "            ax.add_patch(rect)\n",
    "            \n",
    "        plt.show()"
   ]
  },
  {
   "cell_type": "code",
   "execution_count": 518,
   "id": "f73e6d6a",
   "metadata": {},
   "outputs": [
    {
     "ename": "IndentationError",
     "evalue": "expected an indented block (<ipython-input-518-55d21a228c4e>, line 3)",
     "output_type": "error",
     "traceback": [
      "\u001b[0;36m  File \u001b[0;32m\"<ipython-input-518-55d21a228c4e>\"\u001b[0;36m, line \u001b[0;32m3\u001b[0m\n\u001b[0;31m    coords = [5, 1]\u001b[0m\n\u001b[0m         ^\u001b[0m\n\u001b[0;31mIndentationError\u001b[0m\u001b[0;31m:\u001b[0m expected an indented block\n"
     ]
    }
   ],
   "source": [
    "c = Candidate()\n",
    "for direction in range(1,9):\n",
    "    coords = [5, 1]\n",
    "    candidates = c.get_candidate(direction,coords)\n",
    "    c.visualize(candidates)"
   ]
  },
  {
   "cell_type": "code",
   "execution_count": 517,
   "id": "12133856",
   "metadata": {},
   "outputs": [
    {
     "data": {
      "image/png": "[encoded data removed]",
      "text/plain": [
       "<Figure size 576x576 with 1 Axes>"
      ]
     },
     "metadata": {
      "needs_background": "light"
     },
     "output_type": "display_data"
    }
   ],
   "source": []
  },
  {
   "cell_type": "code",
   "execution_count": null,
   "id": "f3033bb6",
   "metadata": {},
   "outputs": [],
   "source": []
  }
 ],
 "metadata": {
  "kernelspec": {
   "display_name": "Python 3",
   "language": "python",
   "name": "python3"
  },
  "language_info": {
   "codemirror_mode": {
    "name": "ipython",
    "version": 3
   },
   "file_extension": ".py",
   "mimetype": "text/x-python",
   "name": "python",
   "nbconvert_exporter": "python",
   "pygments_lexer": "ipython3",
   "version": "3.6.9"
  }
 },
 "nbformat": 4,
 "nbformat_minor": 5
}
