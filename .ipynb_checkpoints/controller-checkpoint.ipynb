{
 "cells": [
  {
   "cell_type": "code",
   "execution_count": 7,
   "id": "3b554be8",
   "metadata": {},
   "outputs": [],
   "source": [
    "%run audio.ipynb\n",
    "%run featurizer.ipynb\n",
    "%run location.ipynb\n",
    "# %run direction.ipynb"
   ]
  },
  {
   "cell_type": "code",
   "execution_count": 8,
   "id": "272cef63",
   "metadata": {},
   "outputs": [
    {
     "name": "stdout",
     "output_type": "stream",
     "text": [
      "Received location for  Tag 1 :     coordinate_x  coordinate_y  coordinate_z\n",
      "0          1.86          5.47         -0.98\n",
      "Recording starts..\n",
      "Recording done!\n",
      "Saved as data/recordings/record_0010.wav\n",
      "Received location for  Tag 1 :     coordinate_x  coordinate_y  coordinate_z\n",
      "0          1.87          5.49         -0.96\n",
      "Recording starts..\n",
      "Recording done!\n",
      "Saved as data/recordings/record_0011.wav\n",
      "Received location for  Tag 1 :     coordinate_x  coordinate_y  coordinate_z\n",
      "0          1.84          5.49         -0.99\n",
      "Recording starts..\n",
      "Recording done!\n",
      "Saved as data/recordings/record_0012.wav\n",
      "Received location for  Tag 1 :     coordinate_x  coordinate_y  coordinate_z\n",
      "0           1.8          5.51         -0.98\n",
      "Recording starts..\n",
      "Recording done!\n",
      "Saved as data/recordings/record_0013.wav\n",
      "Received location for  Tag 1 :     coordinate_x  coordinate_y  coordinate_z\n",
      "0          1.67          5.51         -0.88\n",
      "Recording starts..\n",
      "Recording done!\n",
      "Saved as data/recordings/record_0014.wav\n"
     ]
    }
   ],
   "source": [
    "path = 'data/feature.csv'\n",
    "runtime = 5 #sec\n",
    "\n",
    "start_idx = 15\n",
    "end_idx = 20\n",
    "\n",
    "f = Featurizer()    \n",
    "f.set_metadata(location_id='Arena', device_id='Tag 1', user_id='User 1')\n",
    "\n",
    "for i in range(start_idx, end_idx):\n",
    "\n",
    "    metadata = f.get_metadata()\n",
    "    coord=  f.get_location()\n",
    "    direction=  f.get_direction()\n",
    "    audio = f.get_audio_features(i, runtime)   \n",
    "    row = pd.concat([metadata, audio, coord, direction], axis=1)\n",
    "    \n",
    "    df = f.load_data(path)\n",
    "    df = pd.concat([df, row], axis=0)\n",
    "    df.to_csv(path, index=False)"
   ]
  },
  {
   "cell_type": "code",
   "execution_count": null,
   "id": "83efa8a3",
   "metadata": {},
   "outputs": [],
   "source": []
  }
 ],
 "metadata": {
  "kernelspec": {
   "display_name": "Python 3 (ipykernel)",
   "language": "python",
   "name": "python3"
  },
  "language_info": {
   "codemirror_mode": {
    "name": "ipython",
    "version": 3
   },
   "file_extension": ".py",
   "mimetype": "text/x-python",
   "name": "python",
   "nbconvert_exporter": "python",
   "pygments_lexer": "ipython3",
   "version": "3.8.6"
  }
 },
 "nbformat": 4,
 "nbformat_minor": 5
}
