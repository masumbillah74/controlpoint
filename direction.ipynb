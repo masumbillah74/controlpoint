{
 "cells": [
  {
   "cell_type": "code",
   "execution_count": 1,
   "id": "613ae458",
   "metadata": {},
   "outputs": [
    {
     "ename": "AttributeError",
     "evalue": "module 'socket' has no attribute 'BTPROTO_RFCOMM'",
     "output_type": "error",
     "traceback": [
      "\u001b[1;31m---------------------------------------------------------------------------\u001b[0m",
      "\u001b[1;31mAttributeError\u001b[0m                            Traceback (most recent call last)",
      "Cell \u001b[1;32mIn [1], line 6\u001b[0m\n\u001b[0;32m      3\u001b[0m \u001b[38;5;28;01mimport\u001b[39;00m \u001b[38;5;21;01mtime\u001b[39;00m\n\u001b[0;32m      4\u001b[0m \u001b[38;5;28;01mimport\u001b[39;00m \u001b[38;5;21;01mrandom\u001b[39;00m\n\u001b[1;32m----> 6\u001b[0m \u001b[38;5;28;01mfrom\u001b[39;00m \u001b[38;5;21;01mbluetooth\u001b[39;00m \u001b[38;5;28;01mimport\u001b[39;00m \u001b[38;5;241m*\u001b[39m\n\u001b[0;32m      8\u001b[0m server_sock \u001b[38;5;241m=\u001b[39m BluetoothSocket( RFCOMM )\n\u001b[0;32m      9\u001b[0m server_sock\u001b[38;5;241m.\u001b[39mbind((\u001b[38;5;124m\"\u001b[39m\u001b[38;5;124m\"\u001b[39m,PORT_ANY))\n",
      "File \u001b[1;32md:\\rl_offloader\\venv\\lib\\site-packages\\bluetooth\\__init__.py:22\u001b[0m\n\u001b[0;32m     19\u001b[0m     \u001b[38;5;28;01melse\u001b[39;00m:\n\u001b[0;32m     20\u001b[0m         \u001b[38;5;28;01mraise\u001b[39;00m \u001b[38;5;167;01mException\u001b[39;00m(\u001b[38;5;124m\"\u001b[39m\u001b[38;5;124mThis platform (\u001b[39m\u001b[38;5;132;01m%s\u001b[39;00m\u001b[38;5;124m) is currently not supported by pybluez.\u001b[39m\u001b[38;5;124m\"\u001b[39m \u001b[38;5;241m%\u001b[39m sys\u001b[38;5;241m.\u001b[39mplatform)\n\u001b[1;32m---> 22\u001b[0m     \u001b[38;5;28;01mfrom\u001b[39;00m \u001b[38;5;21;01mbluetooth\u001b[39;00m\u001b[38;5;21;01m.\u001b[39;00m\u001b[38;5;21;01mnative_socket\u001b[39;00m \u001b[38;5;28;01mimport\u001b[39;00m BluetoothSocket\n\u001b[0;32m     24\u001b[0m discover_devices\u001b[38;5;241m.\u001b[39m\u001b[38;5;18m__doc__\u001b[39m \u001b[38;5;241m=\u001b[39m bluetooth\u001b[38;5;241m.\u001b[39mdocstrings\u001b[38;5;241m.\u001b[39mdiscover_devices_doc\n\u001b[0;32m     25\u001b[0m lookup_name\u001b[38;5;241m.\u001b[39m\u001b[38;5;18m__doc__\u001b[39m \u001b[38;5;241m=\u001b[39m bluetooth\u001b[38;5;241m.\u001b[39mdocstrings\u001b[38;5;241m.\u001b[39mlookup_name_doc\n",
      "File \u001b[1;32md:\\rl_offloader\\venv\\lib\\site-packages\\bluetooth\\native_socket.py:7\u001b[0m\n\u001b[0;32m      2\u001b[0m \u001b[38;5;28;01mimport\u001b[39;00m \u001b[38;5;21;01msys\u001b[39;00m\n\u001b[0;32m      4\u001b[0m \u001b[38;5;28;01mfrom\u001b[39;00m \u001b[38;5;21;01mbluetooth\u001b[39;00m\u001b[38;5;21;01m.\u001b[39;00m\u001b[38;5;21;01mbtcommon\u001b[39;00m \u001b[38;5;28;01mimport\u001b[39;00m Protocols\n\u001b[0;32m      6\u001b[0m protocols \u001b[38;5;241m=\u001b[39m  {\n\u001b[1;32m----> 7\u001b[0m     Protocols\u001b[38;5;241m.\u001b[39mRFCOMM: \u001b[43msocket\u001b[49m\u001b[38;5;241;43m.\u001b[39;49m\u001b[43mBTPROTO_RFCOMM\u001b[49m\n\u001b[0;32m      8\u001b[0m }\n\u001b[0;32m     10\u001b[0m \u001b[38;5;28;01mif\u001b[39;00m \u001b[38;5;129;01mnot\u001b[39;00m sys\u001b[38;5;241m.\u001b[39mplatform\u001b[38;5;241m.\u001b[39mstartswith(\u001b[38;5;124m\"\u001b[39m\u001b[38;5;124mwin\u001b[39m\u001b[38;5;124m\"\u001b[39m):\n\u001b[0;32m     11\u001b[0m     protocols[Protocols\u001b[38;5;241m.\u001b[39mL2CAP] \u001b[38;5;241m=\u001b[39m socket\u001b[38;5;241m.\u001b[39mBTPROTO_L2CAP,\n",
      "\u001b[1;31mAttributeError\u001b[0m: module 'socket' has no attribute 'BTPROTO_RFCOMM'"
     ]
    }
   ],
   "source": [
    "import os\n",
    "import glob\n",
    "import time\n",
    "import random\n",
    "\n",
    "from bluetooth import *\n",
    "\n",
    "server_sock = BluetoothSocket( RFCOMM )\n",
    "server_sock.bind((\"\",PORT_ANY))\n",
    "server_sock.listen(1)\n",
    "\n",
    "port = server_sock.getsockname()[1]\n",
    "\n",
    "uuid = \"94f39d29-7d6d-437d-973b-fba39e49d4ee\"\n",
    "\n",
    "advertise_service( server_sock, \"TestServer\",\n",
    "                   service_id = uuid,\n",
    "                   service_classes = [ uuid, SERIAL_PORT_CLASS ],\n",
    "                   profiles = [ SERIAL_PORT_PROFILE ], \n",
    "#                   protocols = [ OBEX_UUID ] \n",
    "                    )\n",
    "\n",
    "print(\"Waiting for connection on RFCOMM channel %d\" % port)\n",
    "client_sock, client_info = server_sock.accept()\n",
    "print(\"Accepted connection from \", client_info)\n",
    "\n",
    "while True:          \n",
    "\n",
    "    try:\n",
    "        req = client_sock.recv(1024)\n",
    "        if len(req) == 0:\n",
    "            break\n",
    "        print(\"received [%s]\" % req)\n",
    "\n",
    "        data = None\n",
    "        if req in ('temp', '*temp'):\n",
    "            data = str(random.random())+'!'\n",
    "        else:\n",
    "            pass\n",
    "\n",
    "        if data:\n",
    "            print(\"sending [%s]\" % data)\n",
    "            client_sock.send(data)\n",
    "\n",
    "    except IOError:\n",
    "        pass\n",
    "\n",
    "    except KeyboardInterrupt:\n",
    "\n",
    "        print(\"disconnected\")\n",
    "\n",
    "        client_sock.close()\n",
    "        server_sock.close()\n",
    "        print(\"all done\")\n",
    "\n",
    "        break"
   ]
  },
  {
   "cell_type": "code",
   "execution_count": 4,
   "id": "7cea9624",
   "metadata": {},
   "outputs": [
    {
     "ename": "AttributeError",
     "evalue": "module 'socket' has no attribute 'AF_BLUETOOTH'",
     "output_type": "error",
     "traceback": [
      "\u001b[1;31m---------------------------------------------------------------------------\u001b[0m",
      "\u001b[1;31mAttributeError\u001b[0m                            Traceback (most recent call last)",
      "Cell \u001b[1;32mIn [4], line 5\u001b[0m\n\u001b[0;32m      3\u001b[0m serverMACAddress \u001b[38;5;241m=\u001b[39m \u001b[38;5;124m'\u001b[39m\u001b[38;5;124mF5:9B:72:69:BA:82\u001b[39m\u001b[38;5;124m'\u001b[39m\n\u001b[0;32m      4\u001b[0m port \u001b[38;5;241m=\u001b[39m \u001b[38;5;241m3\u001b[39m\n\u001b[1;32m----> 5\u001b[0m s \u001b[38;5;241m=\u001b[39m socket\u001b[38;5;241m.\u001b[39msocket(\u001b[43msocket\u001b[49m\u001b[38;5;241;43m.\u001b[39;49m\u001b[43mAF_BLUETOOTH\u001b[49m, socket\u001b[38;5;241m.\u001b[39mSOCK_STREAM, socket\u001b[38;5;241m.\u001b[39mBTPROTO_RFCOMM)\n\u001b[0;32m      6\u001b[0m s\u001b[38;5;241m.\u001b[39mconnect((serverMACAddress,port))\n\u001b[0;32m      7\u001b[0m \u001b[38;5;28;01mwhile\u001b[39;00m \u001b[38;5;241m1\u001b[39m:\n",
      "\u001b[1;31mAttributeError\u001b[0m: module 'socket' has no attribute 'AF_BLUETOOTH'"
     ]
    }
   ],
   "source": [
    "import socket\n",
    "\n",
    "serverMACAddress = 'F5:9B:72:69:BA:82'\n",
    "port = 3\n",
    "s = socket.socket(socket.AF_BLUETOOTH, socket.SOCK_STREAM, socket.BTPROTO_RFCOMM)\n",
    "s.connect((serverMACAddress,port))\n",
    "while 1:\n",
    "    text = input()\n",
    "    if text == \"quit\":\n",
    "        break\n",
    "    s.send(bytes(text, 'UTF-8'))\n",
    "s.close()"
   ]
  },
  {
   "cell_type": "code",
   "execution_count": null,
   "id": "1c0b13aa",
   "metadata": {},
   "outputs": [],
   "source": []
  }
 ],
 "metadata": {
  "kernelspec": {
   "display_name": "Python 3 (ipykernel)",
   "language": "python",
   "name": "python3"
  },
  "language_info": {
   "codemirror_mode": {
    "name": "ipython",
    "version": 3
   },
   "file_extension": ".py",
   "mimetype": "text/x-python",
   "name": "python",
   "nbconvert_exporter": "python",
   "pygments_lexer": "ipython3",
   "version": "3.8.6"
  }
 },
 "nbformat": 4,
 "nbformat_minor": 5
}
