{
 "cells": [
  {
   "cell_type": "code",
   "execution_count": 15,
   "id": "6822358d",
   "metadata": {},
   "outputs": [],
   "source": [
    "import speech_recognition as sr\n",
    "\n",
    "class WakeUp():\n",
    "    def __init__(self, microphone_name):\n",
    "        super(WakeUp, self).__init__()\n",
    "        self.microphone_name = microphone_name\n",
    "        self.wakup_text = ['alexa', 'allexa', 'alex', 'allex', 'lexa', 'alyssa', 'alissa', 'elsa', 'lex', 'axa',\n",
    "                         'exa']\n",
    "    \n",
    "    def find_microphone(self):\n",
    "        idx = 0\n",
    "        for index, name in enumerate(sr.Microphone.list_microphone_names()):\n",
    "            print(name)\n",
    "            if self.microphone_name in name:\n",
    "                idx =  index\n",
    "    \n",
    "        return idx\n",
    "    \n",
    "    def get_command(self):\n",
    "        device_index = self.find_microphone()\n",
    "        \n",
    "        r = sr.Recognizer()\n",
    "        with sr.Microphone(device_index) as source:\n",
    "        #with sr.Microphone() as source:     #use default microphone\n",
    "            r.adjust_for_ambient_noise(source)\n",
    "            audio = r.listen(source, phrase_time_limit=3)\n",
    "            said = \"\"\n",
    "\n",
    "            try:\n",
    "                said = r.recognize_google(audio, show_all=True)\n",
    "            except Exception as e:\n",
    "                return \"\"\n",
    "\n",
    "        return said\n",
    "    \n",
    "    def wake_up(self):\n",
    "        command = self.get_command()\n",
    "        if command:\n",
    "            found = 0\n",
    "            for x in command['alternative']:\n",
    "                for wt in self.wakup_text:\n",
    "                    if wt in x['transcript'].lower():\n",
    "                        return True\n",
    "        return False"
   ]
  },
  {
   "cell_type": "code",
   "execution_count": 20,
   "id": "6435bc39",
   "metadata": {},
   "outputs": [],
   "source": [
    "w = WakeUp(\"Andrea\")"
   ]
  },
  {
   "cell_type": "code",
   "execution_count": 21,
   "id": "1c2d2750",
   "metadata": {},
   "outputs": [
    {
     "name": "stderr",
     "output_type": "stream",
     "text": [
      "ALSA lib pcm_route.c:867:(find_matching_chmap) Found no matching channel map\n",
      "ALSA lib pcm_route.c:867:(find_matching_chmap) Found no matching channel map\n",
      "ALSA lib pcm_route.c:867:(find_matching_chmap) Found no matching channel map\n",
      "ALSA lib pcm_route.c:867:(find_matching_chmap) Found no matching channel map\n"
     ]
    },
    {
     "name": "stdout",
     "output_type": "stream",
     "text": [
      "HDA Intel PCH: ALC3254 Analog (hw:0,0)\n",
      "HDA Intel PCH: HDMI 0 (hw:0,3)\n",
      "HDA Intel PCH: HDMI 1 (hw:0,7)\n",
      "HDA Intel PCH: HDMI 2 (hw:0,8)\n",
      "HDA Intel PCH: HDMI 3 (hw:0,9)\n",
      "HDA Intel PCH: HDMI 4 (hw:0,10)\n",
      "Andrea PureAudio: USB Audio (hw:1,0)\n",
      "sysdefault\n",
      "front\n",
      "surround40\n",
      "surround51\n",
      "surround71\n",
      "hdmi\n",
      "pulse\n",
      "dmix\n",
      "default\n"
     ]
    },
    {
     "data": {
      "text/plain": [
       "6"
      ]
     },
     "execution_count": 21,
     "metadata": {},
     "output_type": "execute_result"
    }
   ],
   "source": [
    "w.find_microphone()"
   ]
  },
  {
   "cell_type": "code",
   "execution_count": 22,
   "id": "65765422",
   "metadata": {},
   "outputs": [
    {
     "name": "stderr",
     "output_type": "stream",
     "text": [
      "ALSA lib pcm_route.c:867:(find_matching_chmap) Found no matching channel map\n",
      "ALSA lib pcm_route.c:867:(find_matching_chmap) Found no matching channel map\n",
      "ALSA lib pcm_route.c:867:(find_matching_chmap) Found no matching channel map\n",
      "ALSA lib pcm_route.c:867:(find_matching_chmap) Found no matching channel map\n",
      "ALSA lib pcm_route.c:867:(find_matching_chmap) Found no matching channel map\n",
      "ALSA lib pcm_route.c:867:(find_matching_chmap) Found no matching channel map\n",
      "ALSA lib pcm_route.c:867:(find_matching_chmap) Found no matching channel map\n",
      "ALSA lib pcm_route.c:867:(find_matching_chmap) Found no matching channel map\n",
      "ALSA lib pcm_route.c:867:(find_matching_chmap) Found no matching channel map\n",
      "ALSA lib pcm_route.c:867:(find_matching_chmap) Found no matching channel map\n",
      "ALSA lib pcm_route.c:867:(find_matching_chmap) Found no matching channel map\n",
      "ALSA lib pcm_route.c:867:(find_matching_chmap) Found no matching channel map\n"
     ]
    },
    {
     "name": "stdout",
     "output_type": "stream",
     "text": [
      "HDA Intel PCH: ALC3254 Analog (hw:0,0)\n",
      "HDA Intel PCH: HDMI 0 (hw:0,3)\n",
      "HDA Intel PCH: HDMI 1 (hw:0,7)\n",
      "HDA Intel PCH: HDMI 2 (hw:0,8)\n",
      "HDA Intel PCH: HDMI 3 (hw:0,9)\n",
      "HDA Intel PCH: HDMI 4 (hw:0,10)\n",
      "Andrea PureAudio: USB Audio (hw:1,0)\n",
      "sysdefault\n",
      "front\n",
      "surround40\n",
      "surround51\n",
      "surround71\n",
      "hdmi\n",
      "pulse\n",
      "dmix\n",
      "default\n"
     ]
    },
    {
     "data": {
      "text/plain": [
       "False"
      ]
     },
     "execution_count": 22,
     "metadata": {},
     "output_type": "execute_result"
    }
   ],
   "source": [
    "w.wake_up()"
   ]
  },
  {
   "cell_type": "code",
   "execution_count": null,
   "id": "32a8118b",
   "metadata": {},
   "outputs": [],
   "source": []
  }
 ],
 "metadata": {
  "kernelspec": {
   "display_name": "Python 3 (ipykernel)",
   "language": "python",
   "name": "python3"
  },
  "language_info": {
   "codemirror_mode": {
    "name": "ipython",
    "version": 3
   },
   "file_extension": ".py",
   "mimetype": "text/x-python",
   "name": "python",
   "nbconvert_exporter": "python",
   "pygments_lexer": "ipython3",
   "version": "3.8.16"
  }
 },
 "nbformat": 4,
 "nbformat_minor": 5
}
