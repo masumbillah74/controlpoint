{
 "cells": [
  {
   "cell_type": "code",
   "execution_count": 14,
   "id": "ced68349",
   "metadata": {},
   "outputs": [
    {
     "name": "stdout",
     "output_type": "stream",
     "text": [
      "192.168.86.23 >> <DeviceType.Plug model KP125(US) at 192.168.86.23 (Plug 4), is_on: False - dev specific: {'LED state': True, 'On since': None}>\n",
      "\n",
      "\n",
      "\n"
     ]
    }
   ],
   "source": [
    "#while discovering IP address, use 2.4 Ghz\n",
    "from kasa import Discover, SmartBulb, SmartPlug\n",
    "\n",
    "devices = await Discover.discover()\n",
    "for addr, dev in devices.items():\n",
    "    await dev.update()\n",
    "    print(f\"{addr} >> {dev}\")\n",
    "    print(\"\\n\\n\")"
   ]
  },
  {
   "cell_type": "code",
   "execution_count": 22,
   "id": "c5950455",
   "metadata": {},
   "outputs": [],
   "source": [
    "from kasa import Discover, SmartBulb, SmartPlug\n"
   ]
  },
  {
   "cell_type": "code",
   "execution_count": 24,
   "id": "01d033a4",
   "metadata": {},
   "outputs": [],
   "source": [
    "from kasa import Discover, SmartBulb, SmartPlug\n",
    "\n",
    "\n",
    "async def switch_device(plug):\n",
    "    \n",
    "    await plug.update()\n",
    "    \n",
    "    if plug.is_on:\n",
    "        await plug.turn_off()\n",
    "    else:\n",
    "        await plug.turn_on()\n",
    "        \n",
    "\n",
    "ip_addresses = {\"Plug 1\": \"192.168.86.29\",\n",
    "            \"Plug 2\": \"192.168.86.30\",\n",
    "            \"Plug 3\": \"192.168.86.31\",\n",
    "            \"Plug 4\": \"192.168.86.23\",\n",
    "            \"Plug 5\": \"192.168.86.27\",\n",
    "            \"Plug 6\": \"192.168.86.32\",\n",
    "            \"Plug 7\": \"192.168.86.28\",\n",
    "            \"Plug 8\": \"192.168.86.26\",\n",
    "           }\n",
    "\n",
    "\n",
    "plug = SmartPlug(ip_addresses[\"Plug 4\"])\n",
    "\n",
    "\n",
    "try:\n",
    "    await switch_device(plug)\n",
    "except Exception as e:\n",
    "    print(e)"
   ]
  },
  {
   "cell_type": "code",
   "execution_count": null,
   "id": "b49740c2",
   "metadata": {},
   "outputs": [],
   "source": []
  },
  {
   "cell_type": "code",
   "execution_count": null,
   "id": "5a04f8b3",
   "metadata": {},
   "outputs": [],
   "source": []
  }
 ],
 "metadata": {
  "kernelspec": {
   "display_name": "Python 3 (ipykernel)",
   "language": "python",
   "name": "python3"
  },
  "language_info": {
   "codemirror_mode": {
    "name": "ipython",
    "version": 3
   },
   "file_extension": ".py",
   "mimetype": "text/x-python",
   "name": "python",
   "nbconvert_exporter": "python",
   "pygments_lexer": "ipython3",
   "version": "3.8.16"
  }
 },
 "nbformat": 4,
 "nbformat_minor": 5
}
