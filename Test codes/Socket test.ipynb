{
 "cells": [
  {
   "cell_type": "code",
   "execution_count": 2,
   "id": "ced68349",
   "metadata": {},
   "outputs": [],
   "source": [
    "#while discovering IP address, use 2.4 Ghz\n",
    "from kasa import Discover, SmartBulb, SmartPlug\n",
    "\n",
    "devices = await Discover.discover()\n",
    "for addr, dev in devices.items():\n",
    "    await dev.update()\n",
    "    print(f\"{addr} >> {dev}\")\n",
    "    print(\"\\n\\n\")"
   ]
  },
  {
   "cell_type": "code",
   "execution_count": 3,
   "id": "01d033a4",
   "metadata": {},
   "outputs": [
    {
     "name": "stdout",
     "output_type": "stream",
     "text": [
      "Unable to connect to the device: 192.168.87.23: [Errno 113] Connect call failed ('192.168.87.23', 9999)\n",
      "Unable to connect to the device: 192.168.87.24: [Errno 113] Connect call failed ('192.168.87.24', 9999)\n",
      "Unable to connect to the device: 192.168.87.25: [Errno 113] Connect call failed ('192.168.87.25', 9999)\n",
      "Unable to connect to the device: 192.168.87.21: [Errno 113] Connect call failed ('192.168.87.21', 9999)\n",
      "Unable to connect to the device: 192.168.87.30: [Errno 113] Connect call failed ('192.168.87.30', 9999)\n",
      "Unable to connect to the device: 192.168.87.31: [Errno 113] Connect call failed ('192.168.87.31', 9999)\n",
      "Unable to connect to the device: 192.168.87.32: [Errno 113] Connect call failed ('192.168.87.32', 9999)\n",
      "Unable to connect to the device: 192.168.87.33: [Errno 113] Connect call failed ('192.168.87.33', 9999)\n"
     ]
    }
   ],
   "source": [
    "from kasa import Discover, SmartBulb, SmartPlug\n",
    "\n",
    "\n",
    "async def switch_device(plug):\n",
    "    \n",
    "    await plug.update()\n",
    "    \n",
    "    if plug.is_on:\n",
    "        await plug.turn_off()\n",
    "    else:\n",
    "        await plug.turn_on()\n",
    "        \n",
    "\n",
    "ip_addresses = {\"Plug 1\": \"192.168.87.23\",\n",
    "            \"Plug 2\": \"192.168.87.24\",\n",
    "            \"Plug 3\": \"192.168.87.25\",\n",
    "            \"Plug 4\": \"192.168.87.21\",\n",
    "            \"Plug 5\": \"192.168.87.30\",\n",
    "            \"Plug 6\": \"192.168.87.31\",\n",
    "            \"Plug 7\": \"192.168.87.32\",\n",
    "            \"Plug 8\": \"192.168.87.33\",\n",
    "           }\n",
    "\n",
    "for ip in ip_addresses:\n",
    "    plug = SmartPlug(ip_addresses[ip])\n",
    "\n",
    "\n",
    "    try:\n",
    "        await switch_device(plug)\n",
    "    except Exception as e:\n",
    "        print(e)"
   ]
  },
  {
   "cell_type": "code",
   "execution_count": null,
   "id": "b49740c2",
   "metadata": {},
   "outputs": [],
   "source": []
  }
 ],
 "metadata": {
  "kernelspec": {
   "display_name": "Python 3 (ipykernel)",
   "language": "python",
   "name": "python3"
  },
  "language_info": {
   "codemirror_mode": {
    "name": "ipython",
    "version": 3
   },
   "file_extension": ".py",
   "mimetype": "text/x-python",
   "name": "python",
   "nbconvert_exporter": "python",
   "pygments_lexer": "ipython3",
   "version": "3.8.16"
  }
 },
 "nbformat": 4,
 "nbformat_minor": 5
}
