{
 "cells": [
  {
   "cell_type": "code",
   "execution_count": 1,
   "id": "000c8091",
   "metadata": {},
   "outputs": [],
   "source": [
    "from matplotlib import pyplot as plt, patches\n",
    "from matplotlib.collections import PatchCollection\n",
    "import numpy as np\n",
    "from IPython.display import display, clear_output"
   ]
  },
  {
   "cell_type": "code",
   "execution_count": 2,
   "id": "92c28612",
   "metadata": {},
   "outputs": [],
   "source": [
    "class Candidate():\n",
    "    \n",
    "    def __init__(self):\n",
    "        super(Candidate, self).__init__()\n",
    "        self.width = 7\n",
    "        self.height = 5.4\n",
    "        self.min_cover = 0.05\n",
    "        self.max_cover = 0.2\n",
    "        self.extended_cover = 1\n",
    "        \n",
    "    def getRectCoords(self, rect):\n",
    "        coords = rect.get_patch_transform().transform(rect.get_path().vertices[:-1])\n",
    "        return coords\n",
    "    \n",
    "    def get_rectangle(self, device_coord, direction, cover, ax):\n",
    "\n",
    "        pm = np.array([+1, -1])\n",
    "        \n",
    "        x2, y2 = device_coord[0], device_coord[1]\n",
    "        rect = patches.Rectangle((x2, y2), cover, cover, angle=direction)\n",
    "        coords = self.getRectCoords(rect)\n",
    "        x1, y1 = coords[3][0], coords[3][1]\n",
    "\n",
    "        x = x1 + pm*(1.5*(x2-x1))\n",
    "        y = y1 + pm*(1.5*(y2-y1))\n",
    "        \n",
    "        x = x[0] if np.round(abs(x[0]-x2), 4) <=cover/2 else x[1]\n",
    "        y = y[0] if np.round(abs(y[0]-y2), 4) <=cover/2 else y[1]\n",
    "        \n",
    "        k=0\n",
    "        rects = []\n",
    "        while True:\n",
    "            rect = patches.Rectangle((x, y), cover, cover, \n",
    "                                     alpha = 0.3, color='brown', angle=direction, linewidth=0)\n",
    "            rects.append(rect)\n",
    "            coords = self.getRectCoords(rect)\n",
    "            x,y = coords[1][0], coords[1][1]\n",
    "            \n",
    "            if k==0:\n",
    "                bl = (coords[0][0], coords[0][1])\n",
    "                tl = (coords[3][0], coords[3][1])\n",
    "            \n",
    "            if min(coords[:,0])>self.width or max(coords[:,0])<0 or min(coords[:,1])>self.height or max(coords[:,1])<0:\n",
    "                break\n",
    "            \n",
    "            k+=1\n",
    "        \n",
    "        ax.add_collection(PatchCollection(rects, match_original=True))\n",
    "        ax.set_xlim([0, self.width])\n",
    "        ax.set_ylim([0, self.height])\n",
    "        \n",
    "        br = (coords[1][0], coords[1][1])\n",
    "        tr = (coords[2][0], coords[2][1])\n",
    "        \n",
    "        return [bl, br, tr, tl]\n",
    "    \n",
    "    def pointInRect(self, vertices, point):\n",
    "        return all(self.dot_prod_with_shared_start(vertices[i - 1], v, point) > 0 for i, v in enumerate(vertices))\n",
    "\n",
    "    def dot_prod_with_shared_start(self, start, end1, end2):\n",
    "        return (end1[0] - start[0]) * (end2[0] - start[0]) + (end1[1] - start[1]) * (end2[1] - start[1])\n",
    "    \n",
    "    def draw_mid_line(self, vertices, ax):\n",
    "        x1, y1= (vertices[0][0] + vertices[3][0])/2,(vertices[0][1] + vertices[3][1])/2\n",
    "        x2, y2 = (vertices[1][0] + vertices[2][0])/2, (vertices[1][1] + vertices[2][1])/2\n",
    "        ax.plot([x1, x2], [y1, y2], 'blue', linewidth=0.1)\n",
    "    \n",
    "    def get_iot_in_area(self, tag_coord, degree, iot_coords):\n",
    "        iot_in_area = []\n",
    "\n",
    "        while True:\n",
    "            for cover in np.arange(self.min_cover, self.max_cover, 0.1):\n",
    "                cover = np.round(cover, 4)\n",
    "\n",
    "                fig, axs = plt.subplots(1, 1, figsize=(6, 6))\n",
    "                axs.scatter(*zip(*[tag_coord]), s=10)\n",
    "                axs.scatter(*zip(*iot_coords), s=10)\n",
    "\n",
    "                vertices = self.get_rectangle(tag_coord, degree, cover, axs)\n",
    "                self.draw_mid_line(vertices, axs)\n",
    "\n",
    "                for iot_coord in iot_coords:\n",
    "                    if self.pointInRect(vertices, iot_coord):\n",
    "                        if iot_coord not in iot_in_area:\n",
    "                            iot_in_area.append(iot_coord)\n",
    "                \n",
    "                clear_output(wait=True)\n",
    "                plt.show()\n",
    "                \n",
    "            if not iot_in_area:\n",
    "                self.min_cover = self.max_cover\n",
    "                self.max_cover += 0.1\n",
    "                if self.max_cover>self.extended_cover:\n",
    "                    break\n",
    "            else:\n",
    "                break\n",
    "                \n",
    "        return iot_in_area"
   ]
  },
  {
   "cell_type": "code",
   "execution_count": 3,
   "id": "9f7291a1",
   "metadata": {},
   "outputs": [
    {
     "data": {
      "image/png": "[encoded data removed]",
      "text/plain": [
       "<Figure size 600x600 with 1 Axes>"
      ]
     },
     "metadata": {},
     "output_type": "display_data"
    },
    {
     "name": "stdout",
     "output_type": "stream",
     "text": [
      "[[2.5, 3.5]]\n"
     ]
    }
   ],
   "source": [
    "c = Candidate()\n",
    "\n",
    "tag_coord = [4,1]\n",
    "iot_coords = [[6, 3], [2,3], [2.5, 3.5]]\n",
    "degree = 120\n",
    "\n",
    "iot_in_area = c.get_iot_in_area(tag_coord, degree, iot_coords)\n",
    "    \n",
    "print(iot_in_area)"
   ]
  },
  {
   "cell_type": "code",
   "execution_count": null,
   "id": "30732f6b",
   "metadata": {},
   "outputs": [],
   "source": []
  }
 ],
 "metadata": {
  "kernelspec": {
   "display_name": "Python 3 (ipykernel)",
   "language": "python",
   "name": "python3"
  },
  "language_info": {
   "codemirror_mode": {
    "name": "ipython",
    "version": 3
   },
   "file_extension": ".py",
   "mimetype": "text/x-python",
   "name": "python",
   "nbconvert_exporter": "python",
   "pygments_lexer": "ipython3",
   "version": "3.8.16"
  }
 },
 "nbformat": 4,
 "nbformat_minor": 5
}
