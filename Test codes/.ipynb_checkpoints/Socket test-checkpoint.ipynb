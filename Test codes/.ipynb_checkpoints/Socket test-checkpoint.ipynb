{
 "cells": [
  {
   "cell_type": "code",
   "execution_count": null,
   "id": "ced68349",
   "metadata": {},
   "outputs": [],
   "source": [
    "#while discovering IP address, use 2.4 Ghz\n",
    "from kasa import Discover, SmartBulb, SmartPlug\n",
    "\n",
    "devices = await Discover.discover()\n",
    "print(devices)\n",
    "for addr, dev in devices.items():\n",
    "    await dev.update()\n",
    "    print(f\"{addr} >> {dev}\")\n",
    "    print(\"\\n\\n\")"
   ]
  },
  {
   "cell_type": "code",
   "execution_count": 6,
   "id": "dc7551d1",
   "metadata": {},
   "outputs": [],
   "source": []
  },
  {
   "cell_type": "code",
   "execution_count": 25,
   "id": "8e557fe6",
   "metadata": {},
   "outputs": [],
   "source": [
    "\n"
   ]
  },
  {
   "cell_type": "code",
   "execution_count": 1,
   "id": "01d033a4",
   "metadata": {},
   "outputs": [
    {
     "ename": "RuntimeError",
     "evalue": "asyncio.run() cannot be called from a running event loop",
     "output_type": "error",
     "traceback": [
      "\u001b[0;31m---------------------------------------------------------------------------\u001b[0m",
      "\u001b[0;31mRuntimeError\u001b[0m                              Traceback (most recent call last)",
      "Cell \u001b[0;32mIn[1], line 28\u001b[0m\n\u001b[1;32m     24\u001b[0m     plug_3 \u001b[38;5;241m=\u001b[39m SmartPlug(ip_addresses[\u001b[38;5;124m\"\u001b[39m\u001b[38;5;124mPlug 2\u001b[39m\u001b[38;5;124m\"\u001b[39m])\n\u001b[1;32m     26\u001b[0m     asyncio\u001b[38;5;241m.\u001b[39mrun(switch_device(plug_1))\n\u001b[0;32m---> 28\u001b[0m \u001b[43mrun\u001b[49m\u001b[43m(\u001b[49m\u001b[43m)\u001b[49m\n",
      "Cell \u001b[0;32mIn[1], line 26\u001b[0m, in \u001b[0;36mrun\u001b[0;34m()\u001b[0m\n\u001b[1;32m     23\u001b[0m plug_2 \u001b[38;5;241m=\u001b[39m SmartPlug(ip_addresses[\u001b[38;5;124m\"\u001b[39m\u001b[38;5;124mPlug 2\u001b[39m\u001b[38;5;124m\"\u001b[39m])\n\u001b[1;32m     24\u001b[0m plug_3 \u001b[38;5;241m=\u001b[39m SmartPlug(ip_addresses[\u001b[38;5;124m\"\u001b[39m\u001b[38;5;124mPlug 2\u001b[39m\u001b[38;5;124m\"\u001b[39m])\n\u001b[0;32m---> 26\u001b[0m \u001b[43masyncio\u001b[49m\u001b[38;5;241;43m.\u001b[39;49m\u001b[43mrun\u001b[49m\u001b[43m(\u001b[49m\u001b[43mswitch_device\u001b[49m\u001b[43m(\u001b[49m\u001b[43mplug_1\u001b[49m\u001b[43m)\u001b[49m\u001b[43m)\u001b[49m\n",
      "File \u001b[0;32m/usr/lib/python3.8/asyncio/runners.py:33\u001b[0m, in \u001b[0;36mrun\u001b[0;34m(main, debug)\u001b[0m\n\u001b[1;32m      9\u001b[0m \u001b[38;5;124;03m\"\"\"Execute the coroutine and return the result.\u001b[39;00m\n\u001b[1;32m     10\u001b[0m \n\u001b[1;32m     11\u001b[0m \u001b[38;5;124;03mThis function runs the passed coroutine, taking care of\u001b[39;00m\n\u001b[0;32m   (...)\u001b[0m\n\u001b[1;32m     30\u001b[0m \u001b[38;5;124;03m    asyncio.run(main())\u001b[39;00m\n\u001b[1;32m     31\u001b[0m \u001b[38;5;124;03m\"\"\"\u001b[39;00m\n\u001b[1;32m     32\u001b[0m \u001b[38;5;28;01mif\u001b[39;00m events\u001b[38;5;241m.\u001b[39m_get_running_loop() \u001b[38;5;129;01mis\u001b[39;00m \u001b[38;5;129;01mnot\u001b[39;00m \u001b[38;5;28;01mNone\u001b[39;00m:\n\u001b[0;32m---> 33\u001b[0m     \u001b[38;5;28;01mraise\u001b[39;00m \u001b[38;5;167;01mRuntimeError\u001b[39;00m(\n\u001b[1;32m     34\u001b[0m         \u001b[38;5;124m\"\u001b[39m\u001b[38;5;124masyncio.run() cannot be called from a running event loop\u001b[39m\u001b[38;5;124m\"\u001b[39m)\n\u001b[1;32m     36\u001b[0m \u001b[38;5;28;01mif\u001b[39;00m \u001b[38;5;129;01mnot\u001b[39;00m coroutines\u001b[38;5;241m.\u001b[39miscoroutine(main):\n\u001b[1;32m     37\u001b[0m     \u001b[38;5;28;01mraise\u001b[39;00m \u001b[38;5;167;01mValueError\u001b[39;00m(\u001b[38;5;124m\"\u001b[39m\u001b[38;5;124ma coroutine was expected, got \u001b[39m\u001b[38;5;132;01m{!r}\u001b[39;00m\u001b[38;5;124m\"\u001b[39m\u001b[38;5;241m.\u001b[39mformat(main))\n",
      "\u001b[0;31mRuntimeError\u001b[0m: asyncio.run() cannot be called from a running event loop"
     ]
    }
   ],
   "source": [
    "import asyncio\n",
    "from kasa import Discover, SmartBulb, SmartPlug\n",
    "\n",
    "\n",
    "async def switch_device(plug):\n",
    "    \n",
    "    await plug.update()\n",
    "    \n",
    "    if plug.is_on:\n",
    "        await plug.turn_off()\n",
    "    else:\n",
    "        await plug.turn_on()\n",
    "        \n",
    "\n",
    "def run():\n",
    "    ip_addresses = {\"Plug 1\": \"192.168.87.22\",\n",
    "                \"Plug 2\": \"192.168.87.21\",\n",
    "                \"Plug 3\": \"192.168.87.23\"\n",
    "               }\n",
    "\n",
    "\n",
    "    plug_1 = SmartPlug(ip_addresses[\"Plug 1\"])\n",
    "    plug_2 = SmartPlug(ip_addresses[\"Plug 2\"])\n",
    "    plug_3 = SmartPlug(ip_addresses[\"Plug 2\"])\n",
    "\n",
    "    asyncio.run(switch_device(plug_1))\n",
    "    \n",
    "run()"
   ]
  },
  {
   "cell_type": "code",
   "execution_count": null,
   "id": "23db0c10",
   "metadata": {},
   "outputs": [],
   "source": [
    "await plug_1.update()\n",
    "\n",
    "if plug_1.is_on:\n",
    "    await plug_1.turn_off()\n",
    "else:\n",
    "    await plug_1.turn_on()"
   ]
  },
  {
   "cell_type": "code",
   "execution_count": null,
   "id": "aff5b486",
   "metadata": {},
   "outputs": [],
   "source": [
    "await plug_1.turn_on()"
   ]
  },
  {
   "cell_type": "code",
   "execution_count": null,
   "id": "648f500b",
   "metadata": {},
   "outputs": [],
   "source": []
  }
 ],
 "metadata": {
  "kernelspec": {
   "display_name": "Python 3 (ipykernel)",
   "language": "python",
   "name": "python3"
  },
  "language_info": {
   "codemirror_mode": {
    "name": "ipython",
    "version": 3
   },
   "file_extension": ".py",
   "mimetype": "text/x-python",
   "name": "python",
   "nbconvert_exporter": "python",
   "pygments_lexer": "ipython3",
   "version": "3.8.16"
  }
 },
 "nbformat": 4,
 "nbformat_minor": 5
}
