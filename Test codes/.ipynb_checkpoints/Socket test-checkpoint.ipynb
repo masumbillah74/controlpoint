{
 "cells": [
  {
   "cell_type": "code",
   "execution_count": 12,
   "id": "ced68349",
   "metadata": {},
   "outputs": [],
   "source": [
    "#while discovering IP address, use 2.4 Ghz\n",
    "from kasa import Discover, SmartBulb, SmartPlug\n",
    "\n",
    "devices = await Discover.discover()\n",
    "for addr, dev in devices.items():\n",
    "    await dev.update()\n",
    "    print(f\"{addr} >> {dev}\")\n",
    "    print(\"\\n\\n\")"
   ]
  },
  {
   "cell_type": "code",
   "execution_count": 13,
   "id": "d9f6870d",
   "metadata": {},
   "outputs": [
    {
     "name": "stderr",
     "output_type": "stream",
     "text": [
      "Got error: [Errno 101] Network is unreachable\n",
      "Got error: [Errno 101] Network is unreachable\n",
      "Got error: [Errno 101] Network is unreachable\n",
      "Got error: [Errno 101] Network is unreachable\n",
      "Got error: [Errno 101] Network is unreachable\n",
      "Got error: [Errno 101] Network is unreachable\n",
      "Got error: [Errno 101] Network is unreachable\n",
      "Got error: [Errno 101] Network is unreachable\n",
      "Got error: [Errno 101] Network is unreachable\n",
      "Got error: [Errno 101] Network is unreachable\n",
      "Got error: [Errno 101] Network is unreachable\n",
      "Got error: [Errno 101] Network is unreachable\n",
      "Got error: [Errno 101] Network is unreachable\n",
      "Got error: [Errno 101] Network is unreachable\n",
      "Got error: [Errno 101] Network is unreachable\n",
      "Got error: [Errno 101] Network is unreachable\n",
      "Got error: [Errno 101] Network is unreachable\n",
      "Got error: [Errno 101] Network is unreachable\n"
     ]
    },
    {
     "ename": "CancelledError",
     "evalue": "",
     "output_type": "error",
     "traceback": [
      "\u001b[0;31m---------------------------------------------------------------------------\u001b[0m",
      "\u001b[0;31mCancelledError\u001b[0m                            Traceback (most recent call last)",
      "Cell \u001b[0;32mIn[13], line 2\u001b[0m\n\u001b[1;32m      1\u001b[0m \u001b[38;5;28;01mwhile\u001b[39;00m \u001b[38;5;28;01mTrue\u001b[39;00m:\n\u001b[0;32m----> 2\u001b[0m     devices \u001b[38;5;241m=\u001b[39m \u001b[38;5;28;01mawait\u001b[39;00m Discover\u001b[38;5;241m.\u001b[39mdiscover()\n\u001b[1;32m      3\u001b[0m     \u001b[38;5;28;01mif\u001b[39;00m devices:\n\u001b[1;32m      4\u001b[0m         \u001b[38;5;28;01mbreak\u001b[39;00m\n",
      "File \u001b[0;32m~/.local/lib/python3.8/site-packages/kasa/discover.py:186\u001b[0m, in \u001b[0;36mDiscover.discover\u001b[0;34m(target, on_discovered, timeout, discovery_packets, interface)\u001b[0m\n\u001b[1;32m    184\u001b[0m \u001b[38;5;28;01mtry\u001b[39;00m:\n\u001b[1;32m    185\u001b[0m     _LOGGER\u001b[38;5;241m.\u001b[39mdebug(\u001b[38;5;124m\"\u001b[39m\u001b[38;5;124mWaiting \u001b[39m\u001b[38;5;132;01m%s\u001b[39;00m\u001b[38;5;124m seconds for responses...\u001b[39m\u001b[38;5;124m\"\u001b[39m, timeout)\n\u001b[0;32m--> 186\u001b[0m     \u001b[38;5;28;01mawait\u001b[39;00m asyncio\u001b[38;5;241m.\u001b[39msleep(timeout)\n\u001b[1;32m    187\u001b[0m \u001b[38;5;28;01mfinally\u001b[39;00m:\n\u001b[1;32m    188\u001b[0m     transport\u001b[38;5;241m.\u001b[39mclose()\n",
      "File \u001b[0;32m/usr/lib/python3.8/asyncio/tasks.py:659\u001b[0m, in \u001b[0;36msleep\u001b[0;34m(delay, result, loop)\u001b[0m\n\u001b[1;32m    655\u001b[0m h \u001b[38;5;241m=\u001b[39m loop\u001b[38;5;241m.\u001b[39mcall_later(delay,\n\u001b[1;32m    656\u001b[0m                     futures\u001b[38;5;241m.\u001b[39m_set_result_unless_cancelled,\n\u001b[1;32m    657\u001b[0m                     future, result)\n\u001b[1;32m    658\u001b[0m \u001b[38;5;28;01mtry\u001b[39;00m:\n\u001b[0;32m--> 659\u001b[0m     \u001b[38;5;28;01mreturn\u001b[39;00m \u001b[38;5;28;01mawait\u001b[39;00m future\n\u001b[1;32m    660\u001b[0m \u001b[38;5;28;01mfinally\u001b[39;00m:\n\u001b[1;32m    661\u001b[0m     h\u001b[38;5;241m.\u001b[39mcancel()\n",
      "\u001b[0;31mCancelledError\u001b[0m: "
     ]
    }
   ],
   "source": [
    "while True:\n",
    "    devices = await Discover.discover()\n",
    "    if devices:\n",
    "        break"
   ]
  },
  {
   "cell_type": "code",
   "execution_count": 3,
   "id": "01d033a4",
   "metadata": {},
   "outputs": [
    {
     "name": "stdout",
     "output_type": "stream",
     "text": [
      "Unable to connect to the device: 192.168.87.24: [Errno 113] Connect call failed ('192.168.87.24', 9999)\n"
     ]
    }
   ],
   "source": [
    "from kasa import Discover, SmartBulb, SmartPlug\n",
    "\n",
    "\n",
    "async def switch_device(plug):\n",
    "    \n",
    "    await plug.update()\n",
    "    \n",
    "    if plug.is_on:\n",
    "        await plug.turn_off()\n",
    "    else:\n",
    "        await plug.turn_on()\n",
    "        \n",
    "\n",
    "ip_addresses = {\"Plug 1\": \"192.168.87.23\",\n",
    "            \"Plug 2\": \"192.168.87.24\",\n",
    "            \"Plug 3\": \"192.168.87.25\",\n",
    "            \"Plug 4\": \"192.168.87.21\",\n",
    "            \"Plug 5\": \"192.168.87.30\",\n",
    "            \"Plug 6\": \"192.168.87.31\",\n",
    "            \"Plug 7\": \"192.168.87.32\",\n",
    "            \"Plug 8\": \"192.168.87.33\",\n",
    "           }\n",
    "\n",
    "for ip in ip_addresses:\n",
    "    plug = SmartPlug(ip_addresses[ip])\n",
    "\n",
    "\n",
    "    try:\n",
    "        await switch_device(plug)\n",
    "    except Exception as e:\n",
    "        print(e)"
   ]
  },
  {
   "cell_type": "code",
   "execution_count": null,
   "id": "b49740c2",
   "metadata": {},
   "outputs": [],
   "source": []
  }
 ],
 "metadata": {
  "kernelspec": {
   "display_name": "Python 3 (ipykernel)",
   "language": "python",
   "name": "python3"
  },
  "language_info": {
   "codemirror_mode": {
    "name": "ipython",
    "version": 3
   },
   "file_extension": ".py",
   "mimetype": "text/x-python",
   "name": "python",
   "nbconvert_exporter": "python",
   "pygments_lexer": "ipython3",
   "version": "3.8.16"
  }
 },
 "nbformat": 4,
 "nbformat_minor": 5
}
