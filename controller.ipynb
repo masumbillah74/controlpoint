{
 "cells": [
  {
   "cell_type": "code",
   "execution_count": 9,
   "id": "729ad679",
   "metadata": {},
   "outputs": [],
   "source": [
    "%run audio.ipynb\n",
    "%run featurizer.ipynb\n",
    "%run location.ipynb\n",
    "# %run direction.ipynb"
   ]
  },
  {
   "cell_type": "code",
   "execution_count": 10,
   "id": "a5abb1d2",
   "metadata": {},
   "outputs": [
    {
     "name": "stdout",
     "output_type": "stream",
     "text": [
      "Received location for  Tag 1 :     coordinate_x  coordinate_y  coordinate_z\n",
      "0          1.76           5.5         -0.88\n",
      "Recording starts..\n",
      "Recording done!\n",
      "Saved as data/recordings/record_0015.wav\n",
      "Received location for  Tag 1 :     coordinate_x  coordinate_y  coordinate_z\n",
      "0          1.85          5.49         -0.96\n",
      "Recording starts..\n",
      "Recording done!\n",
      "Saved as data/recordings/record_0016.wav\n",
      "Received location for  Tag 1 :     coordinate_x  coordinate_y  coordinate_z\n",
      "0          1.85          5.49          -0.8\n",
      "Recording starts..\n",
      "Recording done!\n",
      "Saved as data/recordings/record_0017.wav\n",
      "Received location for  Tag 1 :     coordinate_x  coordinate_y  coordinate_z\n",
      "0          1.87          5.48          -1.0\n",
      "Recording starts..\n",
      "Recording done!\n",
      "Saved as data/recordings/record_0018.wav\n",
      "Received location for  Tag 1 :     coordinate_x  coordinate_y  coordinate_z\n",
      "0          1.87           5.5         -0.89\n",
      "Recording starts..\n",
      "Recording done!\n",
      "Saved as data/recordings/record_0019.wav\n"
     ]
    }
   ],
   "source": [
    "path = 'data/feature.csv'\n",
    "runtime = 5 #sec\n",
    "\n",
    "start_idx = 15\n",
    "end_idx = 20\n",
    "\n",
    "f = Featurizer()    \n",
    "f.set_metadata(location_id='Arena', device_id='Tag 1', user_id='User 1')\n",
    "\n",
    "for i in range(start_idx, end_idx):\n",
    "\n",
    "    metadata = f.get_metadata()\n",
    "    coord=  f.get_location()\n",
    "    direction=  f.get_direction()\n",
    "    audio = f.get_audio_features(i, runtime)   \n",
    "    row = pd.concat([metadata, audio, coord, direction], axis=1)\n",
    "    \n",
    "    df = f.load_data(path)\n",
    "    df = pd.concat([df, row], axis=0)\n",
    "    df.to_csv(path, index=False)"
   ]
  },
  {
   "cell_type": "code",
   "execution_count": null,
   "id": "0bb36bad",
   "metadata": {},
   "outputs": [],
   "source": []
  }
 ],
 "metadata": {
  "kernelspec": {
   "display_name": "Python 3 (ipykernel)",
   "language": "python",
   "name": "python3"
  },
  "language_info": {
   "codemirror_mode": {
    "name": "ipython",
    "version": 3
   },
   "file_extension": ".py",
   "mimetype": "text/x-python",
   "name": "python",
   "nbconvert_exporter": "python",
   "pygments_lexer": "ipython3",
   "version": "3.8.6"
  }
 },
 "nbformat": 4,
 "nbformat_minor": 5
}
